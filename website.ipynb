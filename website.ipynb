{
 "cells": [
  {
   "cell_type": "markdown",
   "metadata": {},
   "source": [
    "# $$\\text{Galactic Dynamo}$$"
   ]
  },
  {
   "cell_type": "markdown",
   "metadata": {},
   "source": [
    "## Table of Contents\n",
    "- [Abstract](#abstract)\n",
    "- [Introduction](#introduction)\n",
    "- [Method](#method)\n",
    "- [Results](#results)\n",
    "- [Conclusion](#conclusion)\n",
    "- [References](#references)"
   ]
  },
  {
   "cell_type": "markdown",
   "metadata": {},
   "source": [
    "## Abstract\n",
    "The study of Galactic Dynamos, particularly through mean-field models, provides crucial insights into the generation and evolution of magnetic fields in galaxies. We can use mean-field induction equation to understand the fundamental processes underlying these magnetic fields, which play a pivotal role in shaping galactic structure and evolution.We employed numerical simulations and analytical techniques to solve the mean-field induction equation, considering both the One-dimensional formulation and the simplified no-z approximation. We used crank-nicolson method to solve for the different components of the magnetic field. We solved for different values of the dynamo number to get decaying or growing cases and calculated the critical dynamo number.We also tested whether the no-z approximation, which neglects the vertical component of the magnetic field, adequately captures the dynamo processes in galaxies.We find that the critical dynamo number from the no-z approximation is similiar to the critical dynamo number we calculated from the numerical simulation.\n"
   ]
  },
  {
   "cell_type": "markdown",
   "metadata": {},
   "source": [
    "## Introduction\n",
    "Galactic magnetic fields influence the structure, dynamics, and evolution of galaxies. Galactic magnetic fields exhibit a remarkable diversity of structures, spanning from small-scale turbulent fluctuations to large-scale coherent structures extending across entire galaxies. Observations across different wavelengths, from radio to optical and X-ray, have provided invaluable insights into the morphology and strength of galactic magnetic fields. One of the most striking features is the presence of large-scale magnetic fields, which often display a spiral or axisymmetric morphology that is closely intertwined with the spiral arms and overall gas distribution of galaxies.\n",
    "\n",
    "Galactic Dynamo theory builds upon the principles of magnetohydrodynamics (MHD) to describe the amplification and evolution of magnetic fields in galaxies. At its core, Galactic Dynamo theory tells that small-scale seed magnetic fields can be amplified and stretched by differential rotation and turbulent motions within the interstellar medium (ISM) of galaxies. The amplification process is facilitated by the induction equation, which describes how the magnetic field evolves in response to the velocity field of the ISM and the existing magnetic field configuration.Central to Galactic Dynamo theory is the concept of alpha–omega dynamos, wherein the generation of magnetic fields is driven by the combined action of differential rotation (the omega effect) and helical turbulence (the alpha effect). This dynamo mechanism is thought to be responsible for the generation of large-scale magnetic fields in galaxies, with the observed morphological and statistical properties of galactic magnetic fields providing crucial constraints on dynamo models.\n",
    "\n",
    "In this project, we delve into the intricacies of Galactic Dynamo theory, aiming to explore its predictions and implications for the generation and evolution of large-scale magnetic fields in galaxies. By examining the underlying physical processes and numerical simulations, we seek to deepen our understanding of galactic magnetic fields and the dynamo mechanisms that govern their behavior."
   ]
  },
  {
   "cell_type": "markdown",
   "metadata": {},
   "source": [
    "## Method"
   ]
  },
  {
   "cell_type": "markdown",
   "metadata": {},
   "source": [
    "### The mean-field induction equation\n",
    "\n",
    "The mean-field induction equation is,\n",
    "$$ \\dfrac{\\partial \\bar{\\mathbf{B}}}{\\partial t} = \\nabla \\times \\left[ \\bar{\\mathbf{V}} \\times \\bar{\\mathbf{B}} + \\mathcal{E} - \\eta \\left( \\nabla \\times \\bar{\\mathbf{B}} \\right) \\right] $$\n",
    "where $\\mathcal{E} = \\left( \\alpha \\bar{\\mathbf{B}} \\right) - \\eta_t \\left( \\nabla \\times \\bar{\\mathbf{B}} \\right)$}\n",
    "\n",
    "We will solve the equations in the cylindrical coordinates (r, $\\phi$, z) with the origin at the galactic centre and the z-axis parallel to the galactic angular velocity. \n"
   ]
  },
  {
   "cell_type": "markdown",
   "metadata": {},
   "source": [
    "### Task 1\n",
    "$$\\frac{\\partial \\bar{B}_r}{\\partial t} = - \\frac{\\bar{V}_r}{r} \\frac{\\partial}{\\partial r} (r\\bar{B}_r) - \\frac{\\partial}{\\partial z} (\\bar{V}_z\\bar{B}_r) - \\frac{\\partial}{\\partial z} (\\alpha \\bar{B}_{\\phi}) + \\eta_t\\left[ \\frac{\\partial}{\\partial r} \\left( \\frac{1}{r} \\frac{\\partial}{\\partial r} (r\\bar{B}_r) \\right) + \\frac{\\partial^2 \\bar{B}_r}{\\partial z^2} \\right] $$\n",
    "$$ \\frac{\\partial \\bar{B}_{\\phi}}{\\partial t} = -q\\Omega \\bar{B}_r - \\frac{\\partial}{\\partial r}(\\bar{V}_r\\bar{B}_{\\phi}) - \\frac{\\partial}{\\partial z}(\\bar{V}_z\\bar{B}_{\\phi}) + \\frac{\\partial}{\\partial z}(\\alpha \\bar{B}_r) + \\eta_t\\left[ \\frac{\\partial}{\\partial r} \\left( \\frac{1}{r} \\frac{\\partial}{\\partial r} (r\\bar{B}_{\\phi})\\right) + \\frac{\\partial^2 \\bar{B}_{\\phi}}{\\partial z^2} \\right] $$\n",
    "\n",
    "We have to solve only in the z-direction, we remove all radial or azimuthal variations of the magnetic field $\\left(\\dfrac{\\partial }{\\partial r} = \\dfrac{\\partial }{\\partial \\phi} = 0 \\right)$. We also neglect the $\\alpha$ and $\\Omega$ terms.\n",
    "\n",
    "We are now left with these simple PDE equations to solve,\n",
    "\n",
    "$$ { \\frac{\\partial \\bar{B}_r}{\\partial t} = \\eta_T \\frac{\\partial^2 \\bar{B}_r}{\\partial z^2} } \\qquad \\text{and} \\qquad { \\frac{\\partial \\bar{B}_\\phi}{\\partial t} = \\eta_T \\frac{\\partial^2 \\bar{B}_\\phi}{\\partial z^2} }  $$"
   ]
  },
  {
   "cell_type": "markdown",
   "metadata": {},
   "source": [
    "#### Crank-Nicolson Method for Solving Second-Order PDE\n",
    "\n",
    "The Crank-Nicolson method is a numerical technique used to solve second-order partial differential equations (PDEs) with more stability and accuracy compared to other methods like the explicit method. It is particularly useful for solving parabolic PDEs, which have a time-dependent component.\n",
    "\n",
    "Consider a second-order parabolic PDE in the form:\n",
    "\n",
    "$$\n",
    "\\frac{\\partial u}{\\partial t} = \\alpha \\frac{\\partial^2 u}{\\partial x^2}\n",
    "$$\n",
    "\n",
    "where $u(x, t)$ is the unknown function, $x$ represents spatial coordinates, $t$ represents time, $\\alpha$ is a constant, and $f(x, t)$ is a given function.\n",
    "\n",
    "To discretize this PDE, we use finite differences.\n",
    "Let $u_i^n$ represent the approximate solution at spatial position $x_i$ and time $t_n$. \n",
    "We can approximate the spatial derivatives using central differences, and the time derivative using either forward or backward differences. \n",
    "The Crank-Nicolson method takes a midpoint between these two.\n",
    "\n",
    "The Crank-Nicolson scheme for the above PDE can be written as:\n",
    "\n",
    "$$\n",
    "\\frac{u_i^{n+1} - u_i^n}{\\Delta t} = \\frac{\\alpha}{2} \\left( \\frac{u_{i+1}^{n+1} - 2u_i^{n+1} + u_{i-1}^{n+1}}{\\Delta x^2} + \\frac{u_{i+1}^n - 2u_i^n + u_{i-1}^n}{\\Delta x^2} \\right) \n",
    "$$\n",
    "\n",
    "Rearranging terms, we get:\n",
    "\n",
    "$$\n",
    "-\\frac{\\alpha \\Delta t}{2\\Delta x^2}u_{i-1}^{n+1} + \\left(1 + \\frac{\\alpha \\Delta t}{\\Delta x^2}\\right)u_i^{n+1} - \\frac{\\alpha \\Delta t}{2\\Delta x^2}u_{i+1}^{n+1} = \\frac{\\alpha \\Delta t}{2\\Delta x^2}u_{i-1}^n + \\left(1 - \\frac{\\alpha \\Delta t}{\\Delta x^2}\\right)u_i^n + \\frac{\\alpha \\Delta t}{2\\Delta x^2}u_{i+1}^n \n",
    "$$\n",
    "\n",
    "This equation can be represented in matrix form:\n",
    "\n",
    "$$\n",
    "AU^{n+1} = BU^n\n",
    "$$\n",
    "\n",
    "where $A$ and $B$ are tridiagonal matrices representing the coefficients of $u^{n+1}$ and $u^n$ respectively, and $F$ represents the forcing function evaluated at each spatial point.\n",
    "\n",
    "To solve for $U^{n+1}$, we can rearrange the equation and apply a suitable linear solver.\n"
   ]
  },
  {
   "cell_type": "markdown",
   "metadata": {},
   "source": [
    "The full notebook for Task 1 can be found here: [Task1 Codes](Dynamo_Task1.html)"
   ]
  },
  {
   "cell_type": "markdown",
   "metadata": {},
   "source": [
    "### Task 2 \n",
    "\n",
    "Including the $\\Omega$-effect term and the $\\alpha$-effect term, we get,\n",
    "\n",
    "$$ \\frac{\\partial \\bar{B}_r}{\\partial t} = - \\frac{\\partial (\\alpha \\bar{B}_\\phi)}{\\partial z} + \\eta_T \\frac{\\partial^2 \\bar{B}_r}{\\partial z^2}  \\qquad \\qquad \\text{and} \\qquad \\qquad  \\frac{\\partial \\bar{B}_\\phi}{\\partial t} = -q \\Omega \\bar{B}_r + \\eta_T \\frac{\\partial^2 \\bar{B}_\\phi}{\\partial z^2}  $$\n",
    "\n",
    "The dynamo number is given by,\n",
    "$$ D = − \\dfrac{\\alpha_0 q \\Omega_0 h^3}{\\eta_t^2} $$\n",
    "\n",
    "where $h$ is the thickness of the thin disk of the galaxy, $\\alpha$ is the term responsible for the twisting of the toroidal fields into poloidal fields, $\\Omega$ is the rotation rate fo the galaxy, causing the twisting of poloidal fields into toroidal fields, and $ q = -\\dfrac{r}{\\Omega} \\dfrac{\\partial \\Omega}{\\partial r} $."
   ]
  },
  {
   "cell_type": "markdown",
   "metadata": {},
   "source": [
    "#### Crank Nicolson Method (modified for Coupled case)\n",
    "\n",
    "For the above equations we can write\n",
    "\n",
    "$$\n",
    "\\frac{U_{i,j} - U_{i,j-1}}{\\Delta t} = -\\alpha(z) \\frac{V_{i,j-1} - V_{i-1,j-1}}{\\Delta z} + \\frac{\\eta_T}{2\\Delta z^2} \\left[ (U_{i-1,j-1} + U_{i+1,j-1} - 2U_{i,j-1}) + (U_{i-1,j} + U_{i+1,j} - 2U_{i,j}) \\right]\n",
    "$$\n",
    "\n",
    "$$\n",
    "\\frac{V_{i,j} - V_{i,j-1}}{\\Delta t} = -q\\Omega U_{i,j} + \\frac{\\eta_T}{2\\Delta z^2} \\left[ (V_{i-1,j-1} + V_{i+1,j-1} - 2V_{i,j-1}) + (V_{i-1,j} + V_{i+1,j} - 2V_{i,j}) \\right]\n",
    "$$\n",
    "\n",
    "rearranging the terms:\n",
    "\n",
    "$$\n",
    "U_{i,j} \\left(\\frac{1}{\\Delta t} + \\frac{\\eta_T}{2\\Delta z^2}\\right) - (U_{i-1,j} + U_{i+1,j}) \\frac{\\eta_T}{2\\Delta z^2} = U_{i,j-1} \\left(\\frac{1}{\\Delta t} - \\frac{1}{\\Delta z^2}\\right) - \\alpha(z) \\frac{V_{i,j-1} - V_{i-1,j-1}}{\\Delta z} + \\frac{\\eta_T}{2\\Delta z^2} (U_{i-1,j-1} + U_{i+1,j-1})\n",
    "$$\n",
    "$$\n",
    "V_{i,j} \\left(\\frac{1}{\\Delta t} + \\frac{\\eta_T}{2\\Delta z^2}\\right) - (V_{i-1,j} + V_{i+1,j}) \\frac{\\eta_T}{2\\Delta z^2} = V_{i,j-1} \\left(\\frac{1}{\\Delta t} - \\frac{1}{\\Delta z^2}\\right) - q\\Omega U_{i,j} + \\frac{\\eta_T}{2\\Delta z^2} (V_{i-1,j-1} + V_{i+1,j-1})\n",
    "$$\n",
    "\n",
    "We can transform these into set of linear equations and solve them.\n",
    "\n",
    "\n"
   ]
  },
  {
   "cell_type": "markdown",
   "metadata": {},
   "source": [
    "The full notebook for Task 2 can be found here: [Task2 Codes](Dynamo_Task2.html)"
   ]
  },
  {
   "cell_type": "markdown",
   "metadata": {},
   "source": [
    "### Task 3\n",
    "Under the no-z approximation, we can write \n",
    "$$ \\frac{\\partial^{2} \\bar{B}_i}{\\partial z^2} \\rightarrow - \\frac{\\eta_{T}\\pi^{2}\\bar{B}_{i}}{4h^2} $$\n",
    "$$ - \\frac{\\partial(\\alpha \\bar{B}_\\phi)}{\\partial z} \\rightarrow - \\frac{2|\\alpha|\\bar{B}_{\\phi}}{\\pi h} $$\n",
    "The equations will be transformed to\n",
    "$$ \\frac{\\partial \\bar{B}_r}{\\partial t} = - \\frac{2|\\alpha|\\bar{B}_{\\phi}}{\\pi h} - \\frac{\\eta_{T}\\pi^{2}\\bar{B}_{r}}{4h^2}  \\qquad \\qquad \\text{and} \\qquad \\qquad  \\frac{\\partial \\bar{B}_\\phi}{\\partial t} = -q \\Omega \\bar{B}_r - \\frac{\\eta_{T}\\pi^{2}\\bar{B}_{\\phi}}{4h^2}  $$\n",
    "Boundary conditions are, $ \\bar{B_{r}} = \\bar{B_{\\phi}} = 0 \\,\\,\\text{at}\\,\\, z = \\pm h $\n",
    "\n",
    "We can solve for the critical dynamo from the above equations using $\\frac{\\partial \\bar{B_{i}}}{\\partial t} = 0$,\n",
    "$$ D_{c} \\approx - \\frac{\\pi^{5}}{32} \\approx -9.56 $$"
   ]
  },
  {
   "cell_type": "markdown",
   "metadata": {},
   "source": [
    "#### Crank Nicolson Method (modified for no-z)\n",
    "For the above equations we can write\n",
    "\n",
    "$$\n",
    "\\frac{U_{i,j} - U_{i,j-1}}{\\Delta t} = -\\frac{2|\\alpha|}{\\pi h} \\frac{V_{i,j} - V_{i-1,j-1}}{2} - \\frac{\\eta_T\\pi^2}{4 h^2}\\frac{U_{i,j} - U_{i,j-1}}{2} \n",
    "$$\n",
    "\n",
    "$$\n",
    "\\frac{V_{i,j} - V_{i,j-1}}{\\Delta t} = -q\\Omega \\frac{U_{i,j} - U_{i,j-1}}{2} - \\frac{\\eta_T\\pi^2}{4 h^2}\\frac{U_{i,j} - U_{i,j-1}}{2}\n",
    "$$\n",
    "\n",
    "We can rearrange the terms and then transform these into set of linear equations to solve them.\n",
    "\n"
   ]
  },
  {
   "cell_type": "markdown",
   "metadata": {},
   "source": [
    "### Solving numerically for critical Dynamo number using no-z approximation\n",
    "#### Initial conditions, \n",
    "$$\\bar{B_{r}} = 1.4\\times\\cos(0.5\\pi z)$$\n",
    "$$\\bar{B_{\\phi}} = -\\cos(0.5\\pi z)$$"
   ]
  },
  {
   "cell_type": "markdown",
   "metadata": {},
   "source": [
    "The full notebook for Task 3 can be found here: [Task3 Codes](Dynamo_Task3.html)"
   ]
  },
  {
   "cell_type": "markdown",
   "metadata": {},
   "source": [
    "## Results"
   ]
  },
  {
   "cell_type": "markdown",
   "metadata": {},
   "source": [
    "### Growing dynamo (no-z) \n",
    "We set the values of $\\eta_{T} = h = \\alpha = 1$ and the value of $q$ to be 0.9.\n",
    "\n",
    "Setting $\\Omega = 25$, we get a growing dynamo and the dynamo number  is -22.5"
   ]
  },
  {
   "cell_type": "markdown",
   "metadata": {},
   "source": [
    "<img src='noz1.png' scale = 1 />"
   ]
  },
  {
   "cell_type": "markdown",
   "metadata": {},
   "source": [
    "<img src='ani_noz_growing.gif' width='1200' height='400' />"
   ]
  },
  {
   "cell_type": "markdown",
   "metadata": {},
   "source": [
    "The growth rate from the log-plot for the total B at the midplane is $0.210$."
   ]
  },
  {
   "cell_type": "markdown",
   "metadata": {},
   "source": [
    "### Decaying dynamo (no-z) \n",
    "We set the values of $\\eta_{T} = h = \\alpha = 1$ and the value of $q$ to be 0.9.\n",
    "\n",
    "Setting $\\Omega = 10$, we get a decaying dynamo and the dynamo number  is -9.0."
   ]
  },
  {
   "cell_type": "markdown",
   "metadata": {},
   "source": [
    "<img src='noz3.png' scale = 1 />"
   ]
  },
  {
   "cell_type": "markdown",
   "metadata": {},
   "source": [
    "<img src='ani_noz_decaying.gif' width='1200' height='400' />"
   ]
  },
  {
   "cell_type": "markdown",
   "metadata": {},
   "source": [
    "The decay rate from the log-plot for the total B at the midplane is $-0.776$"
   ]
  },
  {
   "cell_type": "markdown",
   "metadata": {},
   "source": [
    "##### Calculation of the critical Dynamo number \n",
    "We varied the value of the omega to change the decay or growth rate till it reaches 0.The value of omega for that value will give us the value of the critical Dynamo number.\n",
    "\n",
    "We get the critical Dynamo number to be $-19.126$.\n",
    "For this value of Dynamo number the slope of the log-plot for the total magnetic field strength at the midplane becomes equal to 0.\n",
    "\n",
    "There is no change w.r.t time in the values of $\\bar{B_{r}}$ and $\\bar{B_{\\phi}}$."
   ]
  },
  {
   "cell_type": "markdown",
   "metadata": {},
   "source": [
    "<img src='noz6.png' scale = 1 />"
   ]
  },
  {
   "cell_type": "markdown",
   "metadata": {},
   "source": [
    "## Conclusions\n",
    "* We got a growing dynamo for dynamo number $D = -22.5$ with a growth rate of $0.210$.\n",
    "* We got a decaying dynamo for dynamo number $D = -9.0$ with a dacy rate of $-0.776$.\n",
    "* We solve for the omega at the zero decay rate to get a critical dynamo number $D_{c} = -19.126$.\n",
    "* The analytic solution of critical dynamo in the case of no-z approximation gave a value of $-9.56$.\n",
    "* Our numerical solution for the critical dynamo number is similiar to the value obtained numerically which signifies that no-z approximation is valid is case of galactic dynamos.\n",
    "* We have set the values of $\\eta_{T},\\,\\alpha,\\,h$ to be 1.\n",
    "* We have neglected the $\\alpha^{2}-\\Omega$ here. \n",
    "* We could use different type of odd functions for $\\alpha$ to get different values of critical dynamo number and better understand the effect of different types of $\\alpha$ functions on the critical dynamo number."
   ]
  },
  {
   "cell_type": "markdown",
   "metadata": {},
   "source": [
    "## References\n",
    "* Chamandy, L. (2016). An analytical dynamo solution for large-scale magnetic fields of galaxies. Monthly Notices of the Royal Astronomical Society, 462(4), 4402-4415.\n",
    "* Sharanya Sur, Anvar Shukurov, Kandaswamy Subramanian, Galactic dynamos supported by magnetic helicity fluxes, Monthly Notices of the Royal Astronomical Society, Volume 377, Issue 2, 11 May 2007, Pages 874–882.\n",
    "* Luke Chamandy, Kandaswamy Subramanian, Anvar Shukurov, Galactic spiral patterns and dynamo action – I. A new twist on magnetic arms, Monthly Notices of the Royal Astronomical Society, Volume 428, Issue 4, February 2013, Pages 3569–3589."
   ]
  }
 ],
 "metadata": {
  "kernelspec": {
   "display_name": "exos",
   "language": "python",
   "name": "python3"
  },
  "language_info": {
   "codemirror_mode": {
    "name": "ipython",
    "version": 3
   },
   "file_extension": ".py",
   "mimetype": "text/x-python",
   "name": "python",
   "nbconvert_exporter": "python",
   "pygments_lexer": "ipython3",
   "version": "3.11.5"
  }
 },
 "nbformat": 4,
 "nbformat_minor": 2
}
